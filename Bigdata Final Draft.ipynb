{
 "cells": [
  {
   "cell_type": "code",
   "execution_count": 2,
   "id": "d8a870e4",
   "metadata": {},
   "outputs": [
    {
     "name": "stdout",
     "output_type": "stream",
     "text": [
      "Requirement already satisfied: pyspark in c:\\users\\s546981\\big-data-venv\\lib\\site-packages (3.3.2)Note: you may need to restart the kernel to use updated packages.\n",
      "\n",
      "Requirement already satisfied: pandas in c:\\users\\s546981\\big-data-venv\\lib\\site-packages (1.5.3)\n",
      "Requirement already satisfied: py4j==0.10.9.5 in c:\\users\\s546981\\big-data-venv\\lib\\site-packages (from pyspark) (0.10.9.5)\n",
      "Requirement already satisfied: python-dateutil>=2.8.1 in c:\\users\\s546981\\big-data-venv\\lib\\site-packages (from pandas) (2.8.2)\n",
      "Requirement already satisfied: numpy>=1.21.0 in c:\\users\\s546981\\big-data-venv\\lib\\site-packages (from pandas) (1.24.2)\n",
      "Requirement already satisfied: pytz>=2020.1 in c:\\users\\s546981\\big-data-venv\\lib\\site-packages (from pandas) (2022.7.1)\n",
      "Requirement already satisfied: six>=1.5 in c:\\users\\s546981\\big-data-venv\\lib\\site-packages (from python-dateutil>=2.8.1->pandas) (1.16.0)\n"
     ]
    },
    {
     "name": "stderr",
     "output_type": "stream",
     "text": [
      "WARNING: You are using pip version 22.0.4; however, version 23.1.1 is available.\n",
      "You should consider upgrading via the 'C:\\Users\\s546981\\big-data-venv\\Scripts\\python.exe -m pip install --upgrade pip' command.\n"
     ]
    }
   ],
   "source": [
    "pip install pyspark pandas"
   ]
  },
  {
   "cell_type": "code",
   "execution_count": 3,
   "id": "fbc0602c",
   "metadata": {},
   "outputs": [],
   "source": [
    "from pyspark.sql import SparkSession\n",
    "spark = SparkSession.builder.getOrCreate()"
   ]
  },
  {
   "cell_type": "code",
   "execution_count": 4,
   "id": "3894b7fc",
   "metadata": {},
   "outputs": [
    {
     "name": "stdout",
     "output_type": "stream",
     "text": [
      "+--------+----------+----------+--------+----------------+--------------+-----------------+----+-------+--------+---------+---------+---------+---------+----------+-----+------+-----+----------------+\n",
      "|      id|State_Code|State_Name|State_ab|          County|          City|            Place|Type|Primary|Zip_Code|Area_Code|    ALand|   AWater|      Lat|       Lon| Mean|Median|Stdev|           sum_w|\n",
      "+--------+----------+----------+--------+----------------+--------------+-----------------+----+-------+--------+---------+---------+---------+---------+----------+-----+------+-----+----------------+\n",
      "|01011000|        01|   Alabama|      AL|   Mobile County|     Chickasaw|   Chickasaw city|City|  place|   36611|      251| 10894952|   909156| 30.77145|-88.079697|38773| 30506|33101|1638.26051309172|\n",
      "|01011010|        01|   Alabama|      AL|  Barbour County|    Louisville|        Clio city|City|  place|   36048|      334| 26070325|    23254|31.708516|-85.611039|37725| 19528|43789|258.017684685483|\n",
      "|01011020|        01|   Alabama|      AL|   Shelby County|    Columbiana|  Columbiana city|City|  place|   35051|      205| 44835274|   261034|33.191452|-86.615618|54606| 31930|57348|926.030999750251|\n",
      "|01011030|        01|   Alabama|      AL|   Mobile County|       Satsuma|      Creola city|City|  place|   36572|      251| 36878729|  2374530|30.874343|-88.009442|63919| 52814|47707| 378.11461910293|\n",
      "|01011040|        01|   Alabama|      AL|   Mobile County|Dauphin Island|   Dauphin Island|Town|  place|   36528|      251| 16204185|413605152|30.250913|-88.171268|77948| 67225|54270|282.320327843928|\n",
      "|01011050|        01|   Alabama|      AL|  Cullman County|       Cullman|       Dodge City|Town|  place|   35057|      256|  8913021|    26837|34.045414| -86.88267|50715| 42643|35886|173.325958599703|\n",
      "|01011060|        01|   Alabama|      AL| Escambia County|  East Brewton|East Brewton city|City|  place|   36426|      251|  8826252|    91015| 31.09144|-87.055345|33737| 23610|28256|758.771322372054|\n",
      "|01011070|        01|   Alabama|      AL|   Elmore County|       Coosada|           Elmore|Town|  place|   36020|      334| 10222339|   176500|32.544337|-86.336446|46319| 40242|38941|397.052564239374|\n",
      "|01011080|        01|   Alabama|      AL|   Morgan County|           Eva|              Eva|Town|  place|   35621|      256| 10544874|    78981|34.326504|-86.765318|57994| 39591|47235|137.496038515582|\n",
      "|01011090|        01|   Alabama|      AL|Talladega County|     Sylacauga|     Fayetteville| CDP|  place|   35151|      256| 45178321|  6034534|33.168097|-86.442774|54807| 41712|51359|380.728238095448|\n",
      "|01011100|        01|   Alabama|      AL|   DeKalb County|    Rainsville|  Fort Payne city|City|  place|   35986|      256|145527967|   924063|34.457329|-85.689447|47929| 38947|44430|3621.63031898417|\n",
      "|01011110|        01|   Alabama|      AL|   Etowah County|       Gadsden|     Gadsden city|City|  place|   35901|      256| 96637272|  3060329|34.009563|-86.015643|42251| 28811|41397|10716.1392370522|\n",
      "|01011120|        01|   Alabama|      AL|   Butler County|     Georgiana|        Georgiana|Town|  place|   36033|      334| 16154540|        0|31.639134|-86.746762|27993| 19757|27656|553.438214146472|\n",
      "|01011130|        01|   Alabama|      AL|    Coosa County|      Rockford|        Goodwater|Town|  place|   35136|      256| 16819854|    75870|33.060835|-86.052333|31229| 22745|27452|528.084884689552|\n",
      "|01011140|        01|   Alabama|      AL|     Hale County|    Greensboro|  Greensboro city|City|  place|   36744|      334|  6156793|    24951|32.700968|  -87.5937|36439| 21136|45043|775.252484592484|\n",
      "|01011150|        01|   Alabama|      AL|   Marion County|          Guin|           Gu-Win|Town|  place|   35563|      205|  5028328|        0|33.944319|-87.870368|56934| 39047|53934|37.2643315105633|\n",
      "|01011160|        01|   Alabama|      AL|   Geneva County|      Hartford|    Hartford city|City|  place|   36344|      334| 16152099|    37439|31.105348|-85.691225|41057| 21608|45280| 770.56583917391|\n",
      "|01011170|        01|   Alabama|      AL|Jefferson County|        Helena|      Helena city|City|  place|   35080|      205| 53950336|   833954|33.285635|-86.874488|93682|300000|55763|359.444828293645|\n",
      "|01011180|        01|   Alabama|      AL|   Etowah County|   Hokes Bluff| Hokes Bluff city|City|  place|   35903|      256| 30893300|   423908|33.989682|-85.862873|57202| 46738|44401|1140.74818957597|\n",
      "|01011190|        01|   Alabama|      AL|Covington County|           Opp|        Horn Hill|Town|  place|   36467|      334|  6618368|   135412|31.238158|-86.325104|49699| 34049|48287|77.3974208024441|\n",
      "+--------+----------+----------+--------+----------------+--------------+-----------------+----+-------+--------+---------+---------+---------+---------+----------+-----+------+-----+----------------+\n",
      "only showing top 20 rows\n",
      "\n"
     ]
    },
    {
     "data": {
      "text/plain": [
       "DataFrame[id: string, State_Code: string, State_Name: string, State_ab: string, County: string, City: string, Place: string, Type: string, Primary: string, Zip_Code: string, Area_Code: string, ALand: string, AWater: string, Lat: string, Lon: string, Mean: string, Median: string, Stdev: string, sum_w: string]"
      ]
     },
     "metadata": {},
     "output_type": "display_data"
    }
   ],
   "source": [
    "household = spark.read.format('csv').option('header','true').load('/Users/s546981/OneDrive - nwmissouri.edu/Desktop/DV Project/US_household income.csv')\n",
    "household.createOrReplaceTempView('ushousehold')\n",
    "household.show()\n",
    "display(household)"
   ]
  },
  {
   "cell_type": "code",
   "execution_count": 5,
   "id": "2d61180e",
   "metadata": {},
   "outputs": [],
   "source": [
    "#Dropping duplicates in the dataframe\n",
    "if household.count() > household.dropDuplicates([\"id\"]).count():\n",
    "    raise ValueError('Data has duplicates')\n",
    "    "
   ]
  },
  {
   "cell_type": "code",
   "execution_count": 6,
   "id": "132a12ca",
   "metadata": {},
   "outputs": [],
   "source": [
    "#Changing datatypes into useable format\n",
    "from pyspark.sql.types import IntegerType,BooleanType,DateType\n",
    "household = household.withColumn(\"id\",household.id.cast(IntegerType()))\n",
    "household = household.withColumn(\"State_Code\",household.State_Code.cast(IntegerType()))\n",
    "household = household.withColumn(\"ALand\",household.ALand.cast(IntegerType()))\n",
    "household = household.withColumn(\"AWater\",household.AWater.cast(IntegerType()))\n",
    "household = household.withColumn(\"Lat\",household.Lat.cast(BooleanType()))\n",
    "household = household.withColumn(\"Lon\",household.Lon.cast(BooleanType()))\n",
    "household = household.withColumn(\"Mean\",household.Mean.cast(IntegerType()))\n",
    "household = household.withColumn(\"Median\",household.Median.cast(IntegerType()))\n",
    "household = household.withColumn(\"Stdev\",household.Stdev.cast(IntegerType()))\n",
    "household = household.withColumn(\"sum_w\",household.sum_w.cast(BooleanType()))"
   ]
  },
  {
   "cell_type": "code",
   "execution_count": 7,
   "id": "99f7a00d",
   "metadata": {},
   "outputs": [
    {
     "data": {
      "text/plain": [
       "DataFrame[id: int, State_Code: int, State_Name: string, State_ab: string, County: string, City: string, Place: string, Type: string, Primary: string, Zip_Code: string, Area_Code: string, ALand: int, AWater: int, Lat: boolean, Lon: boolean, Mean: int, Median: int, Stdev: int, sum_w: boolean]"
      ]
     },
     "metadata": {},
     "output_type": "display_data"
    }
   ],
   "source": [
    "#After changing the datatype checking the changed datatypes using display\n",
    "display(household)"
   ]
  },
  {
   "cell_type": "code",
   "execution_count": 8,
   "id": "06f8ed2e",
   "metadata": {},
   "outputs": [
    {
     "name": "stdout",
     "output_type": "stream",
     "text": [
      "+-------------+-----------+\n",
      "|       County|       City|\n",
      "+-------------+-----------+\n",
      "|Apache County|  Ehrenberg|\n",
      "|Apache County|   Dateland|\n",
      "|Apache County|Ft Huachuca|\n",
      "|Apache County|    Phoenix|\n",
      "|Apache County|    Phoenix|\n",
      "|Apache County|    Phoenix|\n",
      "|Apache County|       Yuma|\n",
      "+-------------+-----------+\n",
      "\n",
      "+--------------------+--------------+\n",
      "|              County|          City|\n",
      "+--------------------+--------------+\n",
      "|    St. Clair County|       Vincent|\n",
      "|      Autauga County|    Alexandria|\n",
      "|      Autauga County|Bayou La Batre|\n",
      "|      Autauga County|        Mobile|\n",
      "|Ketchikan Gateway...|     Ketchikan|\n",
      "|Valdez-Cordova Ce...|    Glennallen|\n",
      "|       Mohave County| Dolan Springs|\n",
      "|       Apache County|     Ehrenberg|\n",
      "|       Apache County|      Dateland|\n",
      "|       Apache County|   Ft Huachuca|\n",
      "|       Apache County|       Phoenix|\n",
      "|       Apache County|       Phoenix|\n",
      "|       Apache County|       Phoenix|\n",
      "|       Apache County|          Yuma|\n",
      "|     Arkansas County|        Conway|\n",
      "|      Alameda County|        Delano|\n",
      "|      Alameda County|        Avenal|\n",
      "|      Alameda County|        Downey|\n",
      "|      Alameda County|    Fort Bragg|\n",
      "|      Alameda County|       Anaheim|\n",
      "+--------------------+--------------+\n",
      "only showing top 20 rows\n",
      "\n"
     ]
    }
   ],
   "source": [
    "#1.\tIdentify county’s which having the mean of household income of the specified geographic location less than or equal to 100\n",
    "# Finding counties and cities which have household income less than or equal to 100 in all over the dataset.\n",
    "spark.sql('select County ,City from ushousehold where mean <= 100 and County = \"Apache County\" ').show()\n",
    "spark.sql('select County ,City from ushousehold where mean <= 100').show()"
   ]
  },
  {
   "cell_type": "code",
   "execution_count": 9,
   "id": "baa5e870",
   "metadata": {},
   "outputs": [
    {
     "name": "stdout",
     "output_type": "stream",
     "text": [
      "+--------------------+-----------------+\n",
      "|          avg(ALand)|      avg(AWater)|\n",
      "+--------------------+-----------------+\n",
      "|1.1658927410942015E8|6952054.178411117|\n",
      "+--------------------+-----------------+\n",
      "\n"
     ]
    }
   ],
   "source": [
    "#2.\tFind the average of square area of Land and average of square of water in all the states\n",
    "spark.sql('select avg(ALand), avg(AWater) from ushousehold').show()"
   ]
  },
  {
   "cell_type": "code",
   "execution_count": 10,
   "id": "1aba916f",
   "metadata": {},
   "outputs": [
    {
     "name": "stdout",
     "output_type": "stream",
     "text": [
      "+---+----------+----------+--------+------+----+-----+----+-------+--------+---------+-----+------+---+---+----+------+-----+-----+\n",
      "|id |State_Code|State_Name|State_ab|County|City|Place|Type|Primary|Zip_Code|Area_Code|ALand|AWater|Lat|Lon|Mean|Median|Stdev|sum_w|\n",
      "+---+----------+----------+--------+------+----+-----+----+-------+--------+---------+-----+------+---+---+----+------+-----+-----+\n",
      "+---+----------+----------+--------+------+----+-----+----+-------+--------+---------+-----+------+---+---+----+------+-----+-----+\n",
      "\n"
     ]
    }
   ],
   "source": [
    "household.dropna().show(truncate=False)"
   ]
  },
  {
   "cell_type": "code",
   "execution_count": 11,
   "id": "384c2ee1",
   "metadata": {},
   "outputs": [
    {
     "name": "stdout",
     "output_type": "stream",
     "text": [
      "+-------------+-----+\n",
      "|         City| Mean|\n",
      "+-------------+-----+\n",
      "|Breinigsville|99994|\n",
      "|      Lincoln|99974|\n",
      "|     Pasadena|99951|\n",
      "|    Eatontown|99944|\n",
      "|       Elburn|99936|\n",
      "+-------------+-----+\n",
      "\n",
      "+---------------+----+\n",
      "|           City|Mean|\n",
      "+---------------+----+\n",
      "|         Laredo|   0|\n",
      "|Rio Grande City|   0|\n",
      "|          Heath|   0|\n",
      "|      Oak Ridge|   0|\n",
      "|Rio Grande City|   0|\n",
      "+---------------+----+\n",
      "\n"
     ]
    }
   ],
   "source": [
    "#3.\tDetermine top 5 united states households income and least 5 household income in all the states.\n",
    "spark.sql('select City,Mean from ushousehold order by Mean Desc LIMIT 5').show()\n",
    "spark.sql('select City,Mean from ushousehold order by Mean ASC LIMIT 5').show()"
   ]
  },
  {
   "cell_type": "code",
   "execution_count": 12,
   "id": "b8a7edad",
   "metadata": {},
   "outputs": [
    {
     "name": "stdout",
     "output_type": "stream",
     "text": [
      "+--------+---------+\n",
      "|Zip_Code|Area_Code|\n",
      "+--------+---------+\n",
      "|   18031|      610|\n",
      "|   68506|      402|\n",
      "|   21122|      410|\n",
      "|   07724|      732|\n",
      "|   60119|      630|\n",
      "+--------+---------+\n",
      "\n",
      "+--------+---------+\n",
      "|Zip_Code|Area_Code|\n",
      "+--------+---------+\n",
      "|   85255|      602|\n",
      "|   02170|      617|\n",
      "|   30066|      770|\n",
      "|   92806|      714|\n",
      "|   91745|      626|\n",
      "+--------+---------+\n",
      "\n"
     ]
    }
   ],
   "source": [
    "# 4.Identify the zip code and area code of least 5 mean and median of household income in all the states.\n",
    "spark.sql('select Zip_Code, Area_Code from ushousehold order by Mean DESC LIMIT 5').show()\n",
    "spark.sql('select Zip_Code, Area_Code from ushousehold order by Median DESC LIMIT 5').show()"
   ]
  },
  {
   "cell_type": "code",
   "execution_count": 13,
   "id": "fe1f7c6e",
   "metadata": {},
   "outputs": [
    {
     "name": "stdout",
     "output_type": "stream",
     "text": [
      "+--------+--------+\n",
      "|   ALAND|  AWATER|\n",
      "+--------+--------+\n",
      "| 4985031|       0|\n",
      "|10047646|       0|\n",
      "|  921741|       0|\n",
      "|11803623|    2619|\n",
      "|42914903|26768761|\n",
      "|26359013|  603744|\n",
      "| 1053155|       0|\n",
      "|  862209|       0|\n",
      "| 2517563|       0|\n",
      "| 1985247|     788|\n",
      "|  240330|       0|\n",
      "| 2068424|       0|\n",
      "| 9717030|    2167|\n",
      "| 7156988|       0|\n",
      "| 5857953|   45930|\n",
      "| 1342689| 1311662|\n",
      "|74913028|  364965|\n",
      "|15834746|  847182|\n",
      "|15369718|  289140|\n",
      "| 2763100|  514531|\n",
      "+--------+--------+\n",
      "only showing top 20 rows\n",
      "\n"
     ]
    }
   ],
   "source": [
    "# 5.\tIdentify and determine the distinct values of the square area of water and area of land where the place type is city.\n",
    "spark.sql('select DISTINCT ALAND, AWATER from ushousehold where Type = \"City\"').show()"
   ]
  },
  {
   "cell_type": "code",
   "execution_count": 29,
   "id": "f0b21bb5",
   "metadata": {},
   "outputs": [
    {
     "name": "stdout",
     "output_type": "stream",
     "text": [
      "+---------------+---------------+\n",
      "|           City|          Place|\n",
      "+---------------+---------------+\n",
      "|  Breinigsville|  Breinigsville|\n",
      "|        Lincoln|            Ayr|\n",
      "|       Pasadena| Little Orleans|\n",
      "|      Eatontown|   Absecon city|\n",
      "|         Elburn|         Elburn|\n",
      "|          Chino|   Alameda city|\n",
      "|     Northville|   Hubbard Lake|\n",
      "|          Wayne|   Absecon city|\n",
      "|      Elk Grove|   Alameda city|\n",
      "|     Parsippany|   Absecon city|\n",
      "|    Bridge City|        Elkhart|\n",
      "|      Fairbanks|    Akutan city|\n",
      "|     Lewisville|Lewisville city|\n",
      "|      Vacaville|   Alameda city|\n",
      "|        Hampton|   Chincoteague|\n",
      "|  Overland Park|       Gas city|\n",
      "|         Fresno|   Alameda city|\n",
      "|      Greenwich|         Bethel|\n",
      "|      Hawthorne|   Alameda city|\n",
      "|Clifton Heights|    Abbottstown|\n",
      "+---------------+---------------+\n",
      "only showing top 20 rows\n",
      "\n"
     ]
    }
   ],
   "source": [
    "#6.\tFind the place with the highest mean value in the mean household income column.\n",
    "spark.sql('select City, Place from ushousehold order by mean DESC').show()"
   ]
  },
  {
   "cell_type": "code",
   "execution_count": 30,
   "id": "affd0ddc",
   "metadata": {},
   "outputs": [
    {
     "name": "stdout",
     "output_type": "stream",
     "text": [
      "+---------------+--------------+\n",
      "|  TotalLandArea|TotalWaterArea|\n",
      "+---------------+--------------+\n",
      "|5.7292926995E10| 2.417604645E9|\n",
      "+---------------+--------------+\n",
      "\n"
     ]
    }
   ],
   "source": [
    "#7.\tCalculate the total land and water area of all places in Alabama state.\n",
    "household = household.withColumn(\"ALand\",household.ALand.cast(BooleanType()))\n",
    "household = household.withColumn(\"AWater\",household.AWater.cast(BooleanType()))\n",
    "spark.sql('SELECT SUM(ALand) AS TotalLandArea, SUM(AWater) AS TotalWaterArea from ushousehold where State_ab = \"AL\"').show()"
   ]
  },
  {
   "cell_type": "code",
   "execution_count": 33,
   "id": "5b6d535b",
   "metadata": {},
   "outputs": [
    {
     "name": "stdout",
     "output_type": "stream",
     "text": [
      "+------------------+------------------+\n",
      "|            county|          AvgStdev|\n",
      "+------------------+------------------+\n",
      "|     Benton County|           30310.0|\n",
      "|       Cass County|           36245.5|\n",
      "|     Maries County|           21067.0|\n",
      "|       Clay County|           36896.0|\n",
      "|    Jackson County|           49017.0|\n",
      "|  St. Louis County|           49155.5|\n",
      "|Mississippi County|           11440.0|\n",
      "|    Audrain County|           27672.0|\n",
      "|  Gasconade County|           34967.0|\n",
      "|     DeKalb County|           41228.0|\n",
      "|     Newton County|52486.666666666664|\n",
      "|     Greene County|           36935.5|\n",
      "|    Nodaway County|           35378.0|\n",
      "|   Moniteau County|           41795.0|\n",
      "|  Lafayette County|           27579.0|\n",
      "|       Dade County|           38597.0|\n",
      "|     Miller County|           24659.5|\n",
      "|    Carroll County|           33366.0|\n",
      "|      Osage County|           37477.0|\n",
      "|      Ralls County|           48407.0|\n",
      "+------------------+------------------+\n",
      "only showing top 20 rows\n",
      "\n"
     ]
    }
   ],
   "source": [
    "    #8. \tCalculate the average value in the ‘Stdev’ column for all places in each county in Missouri.\n",
    "spark.sql('select county , AVG(Stdev) AS AvgStdev from ushousehold where State_ab = \"MO\" GROUP BY County').show()"
   ]
  },
  {
   "cell_type": "code",
   "execution_count": 36,
   "id": "c7a3776e",
   "metadata": {},
   "outputs": [
    {
     "name": "stdout",
     "output_type": "stream",
     "text": [
      "+-----------------+-----------------+---------------+\n",
      "|             city|           county|total_land_area|\n",
      "+-----------------+-----------------+---------------+\n",
      "|Owens Cross Roads|   Autauga County|   1.61262786E8|\n",
      "|         Oroville|   Alameda County|    1.8244928E7|\n",
      "|         Martinez|   Alameda County|    1.7044655E7|\n",
      "|    Coral Springs|   Alachua County|      7595303.0|\n",
      "|           Butler|   Appling County|   2.67316168E8|\n",
      "|  Carpentersville|      Kane County|    2.0445861E7|\n",
      "|     Mount Morris|     Adams County|   1.26332935E8|\n",
      "|            Flora|     Adams County|   3.17893925E8|\n",
      "|    South Holland|     Adams County|      1557571.0|\n",
      "|        Herington|    Morris County|       224891.0|\n",
      "|      Loreauville|    Acadia Parish|   1.79117402E8|\n",
      "|          Lafitte|    Acadia Parish|    6.8775292E7|\n",
      "|        Cambridge|Barnstable County|      3354699.0|\n",
      "| Dearborn Heights|    Alcona County|      8737901.0|\n",
      "|          Mankato|Blue Earth County|    4.9080715E7|\n",
      "|      Sauk Rapids|    Aitkin County|      6202435.0|\n",
      "|        Coleridge|     Adams County|    9.9806896E8|\n",
      "|          Wolcott|    Albany County|   1.83852269E8|\n",
      "|      Springville|    Albany County|   1.71609583E8|\n",
      "|      Waynesville|  Alamance County|   2.07662472E8|\n",
      "+-----------------+-----------------+---------------+\n",
      "only showing top 20 rows\n",
      "\n"
     ]
    }
   ],
   "source": [
    "#9.Retrieve the city name, county name, and total land area (in square meters) for all places with a median income between $40,000 and $60,000\n",
    "spark.sql('SELECT city, county, SUM(ALand) AS total_land_area FROM ushousehold WHERE median BETWEEN 40000 AND 60000 GROUP BY city, county').show()"
   ]
  },
  {
   "cell_type": "code",
   "execution_count": 37,
   "id": "7447a942",
   "metadata": {},
   "outputs": [
    {
     "name": "stdout",
     "output_type": "stream",
     "text": [
      "+--------------------+------------------+\n",
      "|          state_name| avg_median_income|\n",
      "+--------------------+------------------+\n",
      "|          New Jersey|125685.82995495496|\n",
      "|         Connecticut|120557.34929577465|\n",
      "|       Massachusetts|118008.03880597015|\n",
      "|            Maryland|113988.23208191126|\n",
      "|             Wyoming|113605.57333333333|\n",
      "|                Utah|109378.08045977012|\n",
      "|              Alaska|108911.69523809524|\n",
      "|        Rhode Island|105751.98165137615|\n",
      "|            Virginia|103971.86369426752|\n",
      "|       New Hampshire|101146.00763358778|\n",
      "|          California|100581.73292682927|\n",
      "|            New York|100544.02685185186|\n",
      "|          Washington| 99918.09156976744|\n",
      "|            Colorado| 99512.92205323195|\n",
      "|              Hawaii| 95679.36231884058|\n",
      "|District of Columbia|       93759.59375|\n",
      "|            Nebraska| 90510.68727272727|\n",
      "|              Nevada| 90228.09811320755|\n",
      "|           Minnesota| 88461.72542901715|\n",
      "|            Delaware| 87086.03409090909|\n",
      "+--------------------+------------------+\n",
      "only showing top 20 rows\n",
      "\n"
     ]
    }
   ],
   "source": [
    "#10. Calculate the average median income for each state, ordered from highest to lowest.\n",
    "spark.sql('SELECT state_name, AVG(median) AS avg_median_income FROM ushousehold GROUP BY state_name ORDER BY avg_median_income DESC').show()"
   ]
  }
 ],
 "metadata": {
  "kernelspec": {
   "display_name": "Python 3 (ipykernel)",
   "language": "python",
   "name": "python3"
  },
  "language_info": {
   "codemirror_mode": {
    "name": "ipython",
    "version": 3
   },
   "file_extension": ".py",
   "mimetype": "text/x-python",
   "name": "python",
   "nbconvert_exporter": "python",
   "pygments_lexer": "ipython3",
   "version": "3.10.3"
  }
 },
 "nbformat": 4,
 "nbformat_minor": 5
}
